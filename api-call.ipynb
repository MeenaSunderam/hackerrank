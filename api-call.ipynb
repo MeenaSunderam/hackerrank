{
 "cells": [
  {
   "cell_type": "code",
   "execution_count": 26,
   "metadata": {},
   "outputs": [
    {
     "name": "stdout",
     "output_type": "stream",
     "text": [
      "https://jsonmock.hackerrank.com/api/movies/search/?Title=Maze\n",
      "97\n"
     ]
    }
   ],
   "source": [
    "import json\n",
    "import requests\n",
    "\n",
    "def getNumberOfMovies(substr):\n",
    "    \n",
    "    #initialize varaibles\n",
    "    moviecount = 0\n",
    "    api_token = \"\"\n",
    "    api_url = \"https://jsonmock.hackerrank.com/api/movies/search/?Title=\" + substr\n",
    "    \n",
    "    print(api_url)\n",
    "    \n",
    "    #check string length\n",
    "    if (len(substr) > 20):\n",
    "        return\n",
    "    \n",
    "    #call api\n",
    "    headers = {'Content-Type': 'application/json'}\n",
    "    response = requests.get(api_url, headers=headers)\n",
    "    \n",
    "    if response.status_code == 200:\n",
    "        output = json.loads(response.content.decode('utf-8'))\n",
    "    \n",
    "    moviecount = output['total']\n",
    "\n",
    "    return moviecount\n",
    "\n",
    "count = getNumberOfMovies(\"Maze\")\n",
    "print(count)"
   ]
  }
 ],
 "metadata": {
  "kernelspec": {
   "display_name": "Python 3",
   "language": "python",
   "name": "python3"
  },
  "language_info": {
   "codemirror_mode": {
    "name": "ipython",
    "version": 3
   },
   "file_extension": ".py",
   "mimetype": "text/x-python",
   "name": "python",
   "nbconvert_exporter": "python",
   "pygments_lexer": "ipython3",
   "version": "3.7.4"
  }
 },
 "nbformat": 4,
 "nbformat_minor": 2
}
